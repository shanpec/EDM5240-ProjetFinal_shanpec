{
 "cells": [
  {
   "cell_type": "code",
   "execution_count": 1,
   "metadata": {
    "collapsed": true
   },
   "outputs": [],
   "source": [
    "%matplotlib inline\n",
    "import pandas as pd\n",
    "import numpy as np\n",
    "import matplotlib as mp"
   ]
  },
  {
   "cell_type": "markdown",
   "metadata": {},
   "source": [
    "<h1>Analyse de la base de données de restomontreal.ca</h1>"
   ]
  },
  {
   "cell_type": "code",
   "execution_count": 2,
   "metadata": {
    "collapsed": true
   },
   "outputs": [],
   "source": [
    "pd.set_option(\"display.float_format\", lambda x : \"%.2f\" % x)"
   ]
  },
  {
   "cell_type": "markdown",
   "metadata": {},
   "source": [
    "Bonjour à vous qui lisez cette page !"
   ]
  },
  {
   "cell_type": "markdown",
   "metadata": {},
   "source": [
    "Nous allons y analyser un petit csv que j'ai créé, qui comprend 6151 restaurants répertoriés sur restomontreal.ca, et quelques unes de leur caractéristiques."
   ]
  },
  {
   "cell_type": "markdown",
   "metadata": {},
   "source": [
    "Vous êtes prêts ? On y va !"
   ]
  },
  {
   "cell_type": "code",
   "execution_count": 3,
   "metadata": {
    "collapsed": true
   },
   "outputs": [],
   "source": [
    "restos=pd.read_csv(\"okrestos.csv\")"
   ]
  },
  {
   "cell_type": "code",
   "execution_count": 4,
   "metadata": {},
   "outputs": [
    {
     "data": {
      "text/plain": [
       "nom                 object\n",
       "adresse             object\n",
       "arrondissement      object\n",
       "arrondissement2     object\n",
       "telephone           object\n",
       "prix               float64\n",
       "cuisine1            object\n",
       "cuisine2            object\n",
       "cuisine3            object\n",
       "cuisine4            object\n",
       "cuisine5            object\n",
       "cuisine6            object\n",
       "cuisine7            object\n",
       "dtype: object"
      ]
     },
     "execution_count": 4,
     "metadata": {},
     "output_type": "execute_result"
    }
   ],
   "source": [
    "restos.dtypes"
   ]
  },
  {
   "cell_type": "code",
   "execution_count": 5,
   "metadata": {},
   "outputs": [
    {
     "data": {
      "text/plain": [
       "(6151, 13)"
      ]
     },
     "execution_count": 5,
     "metadata": {},
     "output_type": "execute_result"
    }
   ],
   "source": [
    "restos.shape"
   ]
  },
  {
   "cell_type": "markdown",
   "metadata": {},
   "source": [
    "Avant d'aller plus loin, une petite explication sur le système de gammes de prix s'impose.\n",
    "Dans restosmontreal.ca, les restaurants étaient classés entre \\$ (de 0 à 20\\$) , \\$\\$(de 20 à 30\\$), \\$\\$\\$(de 30 à 45\\$) et \\$\\$\\$\\$ (plus de 45\\$).\n",
    "Je voulais calculer des moyennes de prix, et ce système n'était pas pratique. J'ai donc attribué les valeurs 1 à \\$, 2 à \\$\\$, 3 à \\$\\$\\$, 4 à \\$\\$\\$\\$, et d'autres valeurs par demi-points lorsque je rencontrais des intervalles d'intervalles (1.5 pour \\$,\\$\\$ ou 3.5 pour \\$\\$\\$,\\$\\$\\$\\$)."
   ]
  },
  {
   "cell_type": "markdown",
   "metadata": {},
   "source": [
    "<h2>Où sont ces restaurants ?</h2>"
   ]
  },
  {
   "cell_type": "markdown",
   "metadata": {},
   "source": [
    "Maintenant, on s'intéresse à la répartition des restaurants selon les endroits (quartiers, arrondissements de Montréal ou villes)."
   ]
  },
  {
   "cell_type": "code",
   "execution_count": 9,
   "metadata": {
    "scrolled": true
   },
   "outputs": [
    {
     "data": {
      "text/plain": [
       "Centre-ville                 520\n",
       "Le Plateau-Mont-Royal        473\n",
       "Vieux-Montréal               242\n",
       "Villeray-Saint-Michel        196\n",
       "Côte-des-Neiges              183\n",
       "Rosemont-Petite-Patrie       177\n",
       "Verdun/Lasalle               175\n",
       "Chomedey                     162\n",
       "Ahuntsic-Cartierville        158\n",
       "Mile-End                     139\n",
       "Anjou-St-Léonard             133\n",
       "Le Village/Centre Sud        118\n",
       "Ville Saint-Laurent          115\n",
       "Hochelaga-Maisonneuve        105\n",
       "Brossard                      97\n",
       "Terrebonne/Lachenaie          94\n",
       "Longueuil                     94\n",
       "Notre-Dame-de-Grâce (NDG)     83\n",
       "Sherbrooke                    80\n",
       "Petite-Italie                 77\n",
       "Quartier Latin                68\n",
       "Dollard-des-Ormeaux           66\n",
       "Mont-Tremblant                63\n",
       "Saint-Hubert                  62\n",
       "Saint-Henri                   56\n",
       "Westmount                     54\n",
       "St-Jean-Sur-Richelieu         54\n",
       "Pointe-Claire                 54\n",
       "Repentigny                    53\n",
       "Saint-Jérôme                  51\n",
       "                            ... \n",
       "Sainte-Catherine               8\n",
       "Notre-Dame-des-Prairies        8\n",
       "Prévost                        7\n",
       "Saint-Basile-le-Grand          7\n",
       "Montréal-Ouest                 7\n",
       "Parc-des-Iles                  7\n",
       "Le Gardeur                     6\n",
       "Rawdon                         6\n",
       "Saint-Vincent-de-Paul          6\n",
       "Mont-Saint-Grégoire            6\n",
       "Berthierville                  6\n",
       "Saint-Francois                 5\n",
       "Beaconsfield                   5\n",
       "Deux-Montagnes                 5\n",
       "Avenue Duluth                  4\n",
       "Kahnawake                      4\n",
       "Vieux Sainte-Rose              4\n",
       "Val-Morin                      4\n",
       "Eastman                        4\n",
       "Charlemagne                    4\n",
       "Verchères                      3\n",
       "L'Épiphanie                    3\n",
       "Brome-Missisquoi               3\n",
       "McMasterville                  3\n",
       "St-Calixte                     3\n",
       "Nouveau Rosemont               3\n",
       "Sainte-Marthe-sur-le-Lac       3\n",
       "Asbestos                       1\n",
       "Laval-sur-le-Lac               1\n",
       "Morin-Heights                  1\n",
       "Name: arrondissement, dtype: int64"
      ]
     },
     "execution_count": 9,
     "metadata": {},
     "output_type": "execute_result"
    }
   ],
   "source": [
    "restos.arrondissement.value_counts()"
   ]
  },
  {
   "cell_type": "code",
   "execution_count": 25,
   "metadata": {
    "scrolled": true
   },
   "outputs": [
    {
     "data": {
      "text/plain": [
       "Montréal-Est                  185\n",
       "Rosemont-Petite-Patrie        136\n",
       "Le Plateau-Mont-Royal         121\n",
       "Longueuil                     107\n",
       "Rue St-Denis                  106\n",
       "Le Sud Ouest                  100\n",
       "Centre-ville                   96\n",
       "Boul. St-Laurent/Main          78\n",
       "Quartier des Spectacles        76\n",
       "Notre-Dame-de-Grâce (NDG)      65\n",
       "Vieux Longueuil                53\n",
       "Villeray-Saint-Michel          46\n",
       "Mile-End                       46\n",
       "Outremont                      37\n",
       "Laval-des-Rapides              35\n",
       "Brossard                       34\n",
       "Chomedey                       31\n",
       "Parc-Extension                 22\n",
       "Avenue Duluth                  18\n",
       "Petite-Italie                  17\n",
       "Côte-des-Neiges                17\n",
       "Laval-Ouest                    15\n",
       "Hochelaga-Maisonneuve          14\n",
       "Westmount                      13\n",
       "Auteuil                        12\n",
       "Verdun/Lasalle                 11\n",
       "Le Village/Centre Sud          11\n",
       "Quartier Dix30                 10\n",
       "Ahuntsic-Cartierville          10\n",
       "Petite-Bourgogne                9\n",
       "                             ... \n",
       "Saint-Lambert                   5\n",
       "Duvernay                        5\n",
       "Sainte-Rose                     4\n",
       "Saint-Hubert                    4\n",
       "Rosemère                        4\n",
       "Vimont                          4\n",
       "Quartier Chinois                3\n",
       "Côte-Saint-Luc                  3\n",
       "Griffintown                     3\n",
       "Sainte-Thérèse                  3\n",
       "McMasterville                   2\n",
       "Beloeil                         2\n",
       "Tétreaultville-Mercier-Est      2\n",
       "Pointe-Claire                   2\n",
       "Delson                          2\n",
       "Ville-Émard                     2\n",
       "Val-David                       2\n",
       "Châteauguay                     2\n",
       "Quartier Latin                  2\n",
       "Sainte-Dorothée                 2\n",
       "Saint-Vincent-de-Paul           2\n",
       "Kirkland                        1\n",
       "Saint-Charles-Borromée          1\n",
       "Otterburn Park                  1\n",
       "Vieux-Terrebonne                1\n",
       "Sainte-Marthe-sur-le-Lac        1\n",
       "Nouveau Rosemont                1\n",
       "La Prairie                      1\n",
       "Lachine                         1\n",
       "Farnham                         1\n",
       "Name: arrondissement2, dtype: int64"
      ]
     },
     "execution_count": 25,
     "metadata": {},
     "output_type": "execute_result"
    }
   ],
   "source": [
    "restos.arrondissement2.value_counts()"
   ]
  },
  {
   "cell_type": "markdown",
   "metadata": {},
   "source": [
    "On voit que la majorité des restaurants se trouvent dans le Centre-ville de Montréal et aux alentours (Plateau Mont-Royal et Vieux-Montréal).\n",
    "Les quartiers très résidentiels, comme Villeray-Saint-Michel ou Rosemont-Petite-Patrie, ne sont pas en reste pour le nombre de restaurants."
   ]
  },
  {
   "cell_type": "markdown",
   "metadata": {},
   "source": [
    "<h2>Les restaurants les plus chers</h2>"
   ]
  },
  {
   "cell_type": "markdown",
   "metadata": {},
   "source": [
    "On veut savoir combien restosmontreal.ca répertorie de restaurants dans la grande région de Montréal  qui ont des repas à plus de 45$ par personne, sans compter l'alcool ni le pourboire."
   ]
  },
  {
   "cell_type": "code",
   "execution_count": 24,
   "metadata": {},
   "outputs": [
    {
     "data": {
      "text/plain": [
       "False    6136\n",
       "True       15\n",
       "Name: prix, dtype: int64"
      ]
     },
     "execution_count": 24,
     "metadata": {},
     "output_type": "execute_result"
    }
   ],
   "source": [
    "chers=restos.prix == 4\n",
    "chers\n",
    "chers.value_counts()"
   ]
  },
  {
   "cell_type": "markdown",
   "metadata": {},
   "source": [
    "Seulement 15 ! Et où se trouvent-ils ?"
   ]
  },
  {
   "cell_type": "code",
   "execution_count": 28,
   "metadata": {},
   "outputs": [
    {
     "data": {
      "text/plain": [
       "Vieux-Montréal           4\n",
       "Centre-ville             3\n",
       "Boul. St-Laurent/Main    2\n",
       "Mile-End                 2\n",
       "Mont-Tremblant           2\n",
       "Griffintown              1\n",
       "Bromont                  1\n",
       "Name: arrondissement, dtype: int64"
      ]
     },
     "execution_count": 28,
     "metadata": {},
     "output_type": "execute_result"
    }
   ],
   "source": [
    "restos[chers].arrondissement.value_counts()"
   ]
  },
  {
   "cell_type": "code",
   "execution_count": 29,
   "metadata": {},
   "outputs": [
    {
     "data": {
      "text/plain": [
       "Outremont                2\n",
       "Le Plateau-Mont-Royal    2\n",
       "Le Sud Ouest             1\n",
       "Name: arrondissement2, dtype: int64"
      ]
     },
     "execution_count": 29,
     "metadata": {},
     "output_type": "execute_result"
    }
   ],
   "source": [
    "restos[chers].arrondissement2.value_counts()"
   ]
  },
  {
   "cell_type": "markdown",
   "metadata": {},
   "source": [
    "Sans énormément de surprise, on trouve plus de la moitié des restaurants chers dans le Vieux-Montréal, en Centre-ville et à Outremont.\n",
    "Mais on voit que la gentrification a fait son petit bonhomme de chemin, et on trouve désormais un restaurants cher dans Le Sud Ouest, deux autres dans le Mile-End et deux au Plateau Mont-Royal.."
   ]
  },
  {
   "cell_type": "markdown",
   "metadata": {},
   "source": [
    "Et en majorité, les restaurants ont quel prix dans le grand Montréal ?"
   ]
  },
  {
   "cell_type": "code",
   "execution_count": 33,
   "metadata": {},
   "outputs": [
    {
     "data": {
      "text/plain": [
       "1.00   57.03\n",
       "2.00   18.34\n",
       "1.50   13.48\n",
       "2.50    6.99\n",
       "3.00    2.37\n",
       "3.50    0.86\n",
       "4.00    0.24\n",
       "Name: prix, dtype: float64"
      ]
     },
     "execution_count": 33,
     "metadata": {},
     "output_type": "execute_result"
    }
   ],
   "source": [
    "restos.prix.value_counts()/ len(restos.prix) *100"
   ]
  },
  {
   "cell_type": "code",
   "execution_count": 35,
   "metadata": {},
   "outputs": [
    {
     "data": {
      "text/plain": [
       "<matplotlib.axes._subplots.AxesSubplot at 0x7ff5df2f4748>"
      ]
     },
     "execution_count": 35,
     "metadata": {},
     "output_type": "execute_result"
    },
    {
     "data": {
      "image/png": "[encoded data removed]",
      "text/plain": [
       "<matplotlib.figure.Figure at 0x7ff5df4126a0>"
      ]
     },
     "metadata": {},
     "output_type": "display_data"
    }
   ],
   "source": [
    "restos.prix.value_counts().plot(kind=\"pie\", title=\"Répartition des gammes de prix des restaurants répertoriés sur restosmontreal.ca\")"
   ]
  },
  {
   "cell_type": "markdown",
   "metadata": {},
   "source": [
    "On voit qu'un repas au restaurant dans le Grand Montréal coûte, dans la majorité des établissements, entre 0 et 20\\$ par personne (sans alcool ni pourboire).\n",
    "On peut donc facilement trouver des restaurants peu chers dans la grande région de Montréal selon restomontreal.ca ."
   ]
  },
  {
   "cell_type": "markdown",
   "metadata": {},
   "source": [
    "<h2>Des restaurants typiques du coin ?</h2>"
   ]
  },
  {
   "cell_type": "markdown",
   "metadata": {},
   "source": [
    "En vivant à Montréal, je me suis souvent dit qu'il n'y a pas beaucoup de restaurants typiquement québécois ou même canadien. Est-ce vrai ? Maintenant, on peut le vérifier :\n",
    "Malheureusement, restomontreal.ca n'a que la catégorie de cuisine \"Canadienne\" pour me permettre de le savoir, et même pas de catégorie Québécoise."
   ]
  },
  {
   "cell_type": "code",
   "execution_count": 45,
   "metadata": {},
   "outputs": [],
   "source": [
    "ca1= restos.cuisine1 == \"Canadienne\"\n",
    "ca2= restos.cuisine2 == \"Canadienne\"\n",
    "ca3= restos.cuisine3 == \"Canadienne\"\n",
    "ca4= restos.cuisine4 == \"Canadienne\"\n",
    "ca5= restos.cuisine5 == \"Canadienne\"\n",
    "ca6= restos.cuisine6 == \"Canadienne\"\n",
    "ca7= restos.cuisine7 == \"Canadienne\""
   ]
  },
  {
   "cell_type": "code",
   "execution_count": 57,
   "metadata": {},
   "outputs": [
    {
     "data": {
      "text/plain": [
       "False    6113\n",
       "True       38\n",
       "Name: cuisine1, dtype: int64"
      ]
     },
     "execution_count": 57,
     "metadata": {},
     "output_type": "execute_result"
    }
   ],
   "source": [
    "ca1.value_counts()"
   ]
  },
  {
   "cell_type": "code",
   "execution_count": 51,
   "metadata": {},
   "outputs": [
    {
     "data": {
      "text/plain": [
       "False    6117\n",
       "True       34\n",
       "Name: cuisine2, dtype: int64"
      ]
     },
     "execution_count": 51,
     "metadata": {},
     "output_type": "execute_result"
    }
   ],
   "source": [
    "ca2.value_counts()"
   ]
  },
  {
   "cell_type": "code",
   "execution_count": 52,
   "metadata": {},
   "outputs": [
    {
     "data": {
      "text/plain": [
       "False    6141\n",
       "True       10\n",
       "Name: cuisine3, dtype: int64"
      ]
     },
     "execution_count": 52,
     "metadata": {},
     "output_type": "execute_result"
    }
   ],
   "source": [
    "ca3.value_counts()"
   ]
  },
  {
   "cell_type": "code",
   "execution_count": 53,
   "metadata": {},
   "outputs": [
    {
     "data": {
      "text/plain": [
       "False    6146\n",
       "True        5\n",
       "Name: cuisine4, dtype: int64"
      ]
     },
     "execution_count": 53,
     "metadata": {},
     "output_type": "execute_result"
    }
   ],
   "source": [
    "ca4.value_counts()"
   ]
  },
  {
   "cell_type": "code",
   "execution_count": 54,
   "metadata": {},
   "outputs": [
    {
     "data": {
      "text/plain": [
       "False    6151\n",
       "Name: cuisine5, dtype: int64"
      ]
     },
     "execution_count": 54,
     "metadata": {},
     "output_type": "execute_result"
    }
   ],
   "source": [
    "ca5.value_counts()"
   ]
  },
  {
   "cell_type": "code",
   "execution_count": 55,
   "metadata": {},
   "outputs": [
    {
     "data": {
      "text/plain": [
       "False    6140\n",
       "True       11\n",
       "Name: cuisine6, dtype: int64"
      ]
     },
     "execution_count": 55,
     "metadata": {},
     "output_type": "execute_result"
    }
   ],
   "source": [
    "ca6.value_counts()"
   ]
  },
  {
   "cell_type": "code",
   "execution_count": 56,
   "metadata": {},
   "outputs": [
    {
     "data": {
      "text/plain": [
       "False    6151\n",
       "Name: cuisine7, dtype: int64"
      ]
     },
     "execution_count": 56,
     "metadata": {},
     "output_type": "execute_result"
    }
   ],
   "source": [
    "ca7.value_counts()"
   ]
  },
  {
   "cell_type": "code",
   "execution_count": 61,
   "metadata": {},
   "outputs": [
    {
     "data": {
      "text/plain": [
       "98"
      ]
     },
     "execution_count": 61,
     "metadata": {},
     "output_type": "execute_result"
    }
   ],
   "source": [
    "ca=38+34+10+5+11\n",
    "ca"
   ]
  },
  {
   "cell_type": "markdown",
   "metadata": {},
   "source": [
    "Dans le Grand Montréal, selon la classification des cuisines de restomontreal.ca, il n'y a que 98 restaurants qui proposent une cuisine typiquement canadienne ! Cela ne fait que ..."
   ]
  },
  {
   "cell_type": "code",
   "execution_count": 63,
   "metadata": {},
   "outputs": [
    {
     "data": {
      "text/plain": [
       "1.5932368720533248"
      ]
     },
     "execution_count": 63,
     "metadata": {},
     "output_type": "execute_result"
    }
   ],
   "source": [
    "pourca=ca/int(len(restos))\n",
    "pourca*100"
   ]
  },
  {
   "cell_type": "markdown",
   "metadata": {},
   "source": [
    "... que 1.6% des restaurants de cette région qui proposent une cuisine canadienne. \n"
   ]
  },
  {
   "cell_type": "markdown",
   "metadata": {},
   "source": [
    "*(avis personnel on)* C'est dommage, quand on sait à quel point ces plats sont bons ! *(avis personnel off)*"
   ]
  },
  {
   "cell_type": "code",
   "execution_count": null,
   "metadata": {
    "collapsed": true
   },
   "outputs": [],
   "source": []
  }
 ],
 "metadata": {
  "kernelspec": {
   "display_name": "Python 3",
   "language": "python",
   "name": "python3"
  },
  "language_info": {
   "codemirror_mode": {
    "name": "ipython",
    "version": 3
   },
   "file_extension": ".py",
   "mimetype": "text/x-python",
   "name": "python",
   "nbconvert_exporter": "python",
   "pygments_lexer": "ipython3",
   "version": "3.6.1"
  }
 },
 "nbformat": 4,
 "nbformat_minor": 2
}
